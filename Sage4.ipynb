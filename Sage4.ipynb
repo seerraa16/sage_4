{
 "cells": [
  {
   "cell_type": "code",
   "execution_count": 1,
   "metadata": {},
   "outputs": [
    {
     "data": {
      "text/plain": [
       "6"
      ]
     },
     "execution_count": 1,
     "metadata": {},
     "output_type": "execute_result"
    }
   ],
   "source": [
    "#Calcula el primer límite de la lista adjunta\n",
    "\n",
    "x = var(\"x\")\n",
    "f(x) = ((x^2)+(2*x)-8)/(x-2)\n",
    "limit(f(x), x=2)"
   ]
  },
  {
   "cell_type": "code",
   "execution_count": 2,
   "metadata": {},
   "outputs": [
    {
     "data": {
      "text/plain": [
       "-Infinity"
      ]
     },
     "execution_count": 2,
     "metadata": {},
     "output_type": "execute_result"
    }
   ],
   "source": [
    "#Calcula el límite lateral indicado en el punto 2 de la lista adjunta\n",
    "x = var(\"x\")\n",
    "f(x) = sec(x)\n",
    "limit(f(x), x=pi/2, dir=\"plus\")\n"
   ]
  },
  {
   "cell_type": "code",
   "execution_count": 3,
   "metadata": {},
   "outputs": [
    {
     "data": {
      "text/plain": [
       "+Infinity"
      ]
     },
     "execution_count": 3,
     "metadata": {},
     "output_type": "execute_result"
    }
   ],
   "source": [
    "#Calcula el límite lateral indicado en el punto 3 de la lista adjunta x \n",
    "x = var(\"x\")\n",
    "f(x) = sec(x)\n",
    "limit(f(x), x=pi/2, dir=\"minus\")"
   ]
  },
  {
   "cell_type": "code",
   "execution_count": 4,
   "metadata": {},
   "outputs": [
    {
     "data": {
      "text/plain": [
       "3*x^2*cos(2*x)*e^(3*x) - 2*x^2*e^(3*x)*sin(2*x) + 2*x*cos(2*x)*e^(3*x)"
      ]
     },
     "execution_count": 4,
     "metadata": {},
     "output_type": "execute_result"
    }
   ],
   "source": [
    "#Calcula la derivada indicada en punto 4 de la lista adjunta\n",
    "x = var(\"x\")\n",
    "f(x) = (x^2)*(e^(3*x))*(cos(2*x))\n",
    "diff(f(x), x)\n"
   ]
  },
  {
   "cell_type": "code",
   "execution_count": 9,
   "metadata": {},
   "outputs": [
    {
     "data": {
      "text/plain": [
       "2*t/(t - 2) - (t^2 + 1)/(t - 2)^2"
      ]
     },
     "execution_count": 9,
     "metadata": {},
     "output_type": "execute_result"
    }
   ],
   "source": [
    "#Calcula la derivada indicada en punto 5 de la lista adjunta\n",
    "t = var(\"t\")\n",
    "d(t) = (t^2+1)/(t-2)\n",
    "diff(d(t), t)\n"
   ]
  },
  {
   "cell_type": "code",
   "execution_count": 14,
   "metadata": {},
   "outputs": [
    {
     "data": {
      "text/plain": [
       "0"
      ]
     },
     "execution_count": 14,
     "metadata": {},
     "output_type": "execute_result"
    }
   ],
   "source": [
    "#Calcula la derivada indicada en punto 6 de la lista adjunta\n",
    "y = var(\"y\")      \n",
    "f(y) = x*cos(x)\n",
    "diff(f(y), y)"
   ]
  },
  {
   "cell_type": "code",
   "execution_count": 12,
   "metadata": {},
   "outputs": [
    {
     "data": {
      "text/plain": [
       "1/2*log(x^2 + 2*x + 1)"
      ]
     },
     "execution_count": 12,
     "metadata": {},
     "output_type": "execute_result"
    }
   ],
   "source": [
    "#Calcula la integral indefinida indicada en punto 7 de la lista adjunta\n",
    "x = var(x)\n",
    "f(x) = (x+1)/(x^2+2*x+1)\n",
    "integrate(f(x), x)\n"
   ]
  },
  {
   "cell_type": "code",
   "execution_count": 11,
   "metadata": {},
   "outputs": [
    {
     "data": {
      "text/plain": [
       "log(1/2*sqrt(2) + 1) - log(-1/2*sqrt(2) + 1)"
      ]
     },
     "execution_count": 11,
     "metadata": {},
     "output_type": "execute_result"
    }
   ],
   "source": [
    "#Calcula el valor de la integral definida indicada en punto 8 de la lista adjunta\n",
    "x = var(\"x\")\n",
    "f(x) = sec(x)\n",
    "integrate(f(x), x, -pi/4, pi/4)"
   ]
  },
  {
   "cell_type": "code",
   "execution_count": 10,
   "metadata": {},
   "outputs": [
    {
     "data": {
      "text/plain": [
       "-1/2*e^(-x^2)"
      ]
     },
     "execution_count": 10,
     "metadata": {},
     "output_type": "execute_result"
    }
   ],
   "source": [
    "#Calcula la integral indefinida indicada en punto 9 de la lista adjunta\n",
    "x = var(\"x\")\n",
    "f(x) = x*e^(-x^2)\n",
    "integrate(f(x), x)"
   ]
  },
  {
   "cell_type": "code",
   "execution_count": null,
   "metadata": {},
   "outputs": [],
   "source": []
  }
 ],
 "metadata": {
  "kernelspec": {
   "display_name": "SageMath 9.3",
   "language": "sage",
   "name": "sagemath"
  },
  "language_info": {
   "codemirror_mode": {
    "name": "ipython",
    "version": 3
   },
   "file_extension": ".py",
   "mimetype": "text/x-python",
   "name": "python",
   "nbconvert_exporter": "python",
   "pygments_lexer": "ipython3",
   "version": "3.7.10"
  }
 },
 "nbformat": 4,
 "nbformat_minor": 4
}
